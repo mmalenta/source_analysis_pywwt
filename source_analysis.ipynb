{
 "cells": [
  {
   "cell_type": "code",
   "execution_count": null,
   "metadata": {},
   "outputs": [],
   "source": [
    "import numpy as np\n",
    "import psrqpy\n",
    "\n",
    "from pywwt.jupyter import WWTJupyterWidget\n",
    "\n",
    "from os import path\n",
    "\n",
    "from astropy import units as u\n",
    "from astroquery.simbad import Simbad\n",
    "from astroquery.skyview import SkyView\n",
    "from astropy.coordinates import Angle, SkyCoord\n",
    "from astropy.constants import c\n",
    "from astropy.table import Table"
   ]
  },
  {
   "cell_type": "markdown",
   "metadata": {},
   "source": [
    "# Start the widget\n",
    "You might want to right-click on the panel to the left of the image and select 'Create New View from Output'"
   ]
  },
  {
   "cell_type": "code",
   "execution_count": null,
   "metadata": {},
   "outputs": [],
   "source": [
    "wwt = WWTJupyterWidget()\n",
    "wwt"
   ]
  },
  {
   "cell_type": "markdown",
   "metadata": {},
   "source": [
    "# Some organising\n",
    "### Pointing parameters\n",
    "Change as required.\n",
    "Make sure you set the position to the right coordinates."
   ]
  },
  {
   "cell_type": "code",
   "execution_count": null,
   "metadata": {},
   "outputs": [],
   "source": [
    "# No need to have time running\n",
    "wwt.pause_time()\n",
    "# Turn on the galactic grid\n",
    "wwt.galactic_grid = True\n",
    "# Center position of the incoherent beam\n",
    "ib_centre = SkyCoord(ra=\"0h0m0.0s\", dec=\"+0d0m0.0s\")\n",
    "wwt.center_on_coordinates(ib_centre)"
   ]
  },
  {
   "cell_type": "code",
   "execution_count": null,
   "metadata": {},
   "outputs": [],
   "source": [
    "cfreq = 1284000000.0 * u.Hz # centre frequency in Hz\n",
    "antenna_d = 13.96 * u.m# antenna diameter in m\n",
    "\n",
    "ib_rad = 1.2 * c / (antenna_d * cfreq)\n",
    "ib_deg = (ib_rad * u.rad).to(u.deg)"
   ]
  },
  {
   "cell_type": "code",
   "execution_count": null,
   "metadata": {},
   "outputs": [],
   "source": [
    "# That currently does not mean much due to projection\n",
    "ib = wwt.add_circle(ib_centre, radius = ib_deg / 2, opacity=.4, fill_color=\"#C4D600\")"
   ]
  },
  {
   "cell_type": "markdown",
   "metadata": {},
   "source": [
    "### Source parameters\n",
    "Change as required"
   ]
  },
  {
   "cell_type": "code",
   "execution_count": null,
   "metadata": {},
   "outputs": [],
   "source": [
    "cand_dm = 5678\n",
    "mw_dm = 1243\n",
    "dm_excess = cand_dm - mw_dm\n",
    "cand_z = dm_excess / 855\n",
    "upper_cand_z = 1.5 * cand_z\n",
    "lower_cand_z = 0.5 * cand_z"
   ]
  },
  {
   "cell_type": "markdown",
   "metadata": {},
   "source": [
    "# Catalogues"
   ]
  },
  {
   "cell_type": "markdown",
   "metadata": {},
   "source": [
    "### Pulsar catalogue"
   ]
  },
  {
   "cell_type": "code",
   "execution_count": null,
   "metadata": {},
   "outputs": [],
   "source": [
    "psr_cat = psrqpy.QueryATNF(params=['F0', 'DM', 'RAJ', 'DecJ'], circular_boundary=[ib_centre.ra.to_string(unit=u.hourangle, sep=\":\"), ib_centre.dec.to_string(sep=\":\"), 20.0])"
   ]
  },
  {
   "cell_type": "code",
   "execution_count": null,
   "metadata": {},
   "outputs": [],
   "source": [
    "found_pulsars = psr_cat.table\n",
    "ra = found_pulsars[\"RAJ\"]\n",
    "dec = found_pulsars[\"DECJ\"]\n",
    "\n",
    "found_pulsars[\"RA\"] = Angle(ra, u.hour)\n",
    "found_pulsars[\"DEC\"] = Angle(dec, u.deg)"
   ]
  },
  {
   "cell_type": "code",
   "execution_count": null,
   "metadata": {},
   "outputs": [],
   "source": [
    "psr_layer = wwt.layers.add_table_layer(found_pulsars)\n",
    "psr_layer.size_scale = 100\n",
    "psr_layer.color = 'red'"
   ]
  },
  {
   "cell_type": "code",
   "execution_count": null,
   "metadata": {},
   "outputs": [],
   "source": [
    "wwt.center_on_coordinates(ib_centre)"
   ]
  },
  {
   "cell_type": "markdown",
   "metadata": {},
   "source": [
    "### Magnetars"
   ]
  },
  {
   "cell_type": "code",
   "execution_count": null,
   "metadata": {},
   "outputs": [],
   "source": [
    "magnetars = Table.read(\"magnetars.csv\")\n",
    "magnetars[:5]"
   ]
  },
  {
   "cell_type": "code",
   "execution_count": null,
   "metadata": {},
   "outputs": [],
   "source": [
    "ra = magnetars[\"RA\"]\n",
    "dec = magnetars[\"Dec\"]\n",
    "\n",
    "magnetars[\"RA\"] = Angle(ra, u.hour)\n",
    "magnetars[\"Dec\"] = Angle(dec, u.deg)"
   ]
  },
  {
   "cell_type": "code",
   "execution_count": null,
   "metadata": {},
   "outputs": [],
   "source": [
    "mag_layer = wwt.layers.add_table_layer(magnetars)\n",
    "mag_layer.color = 'white'\n",
    "mag_layer.size_scale = 200"
   ]
  },
  {
   "cell_type": "markdown",
   "metadata": {},
   "source": [
    "### Simbad"
   ]
  },
  {
   "cell_type": "code",
   "execution_count": null,
   "metadata": {},
   "outputs": [],
   "source": [
    "red_simbad = Simbad()\n",
    "red_simbad.get_votable_fields()"
   ]
  },
  {
   "cell_type": "code",
   "execution_count": null,
   "metadata": {},
   "outputs": [],
   "source": [
    "red_simbad.add_votable_fields(\"distance_result\", \"z_value\", \"otype\")\n",
    "red_simbad.get_votable_fields()"
   ]
  },
  {
   "cell_type": "code",
   "execution_count": null,
   "metadata": {},
   "outputs": [],
   "source": [
    "simbad_results = red_simbad.query_region(ib_centre, radius=2*u.degree)"
   ]
  },
  {
   "cell_type": "code",
   "execution_count": null,
   "metadata": {},
   "outputs": [],
   "source": [
    "print(simbad_results)"
   ]
  },
  {
   "cell_type": "code",
   "execution_count": null,
   "metadata": {},
   "outputs": [],
   "source": [
    "simbad_results[\"RA\"] = Angle(simbad_results[\"RA\"], unit=u.hourangle)\n",
    "simbad_results[\"DEC\"] = Angle(simbad_results[\"DEC\"], unit=u.deg)"
   ]
  },
  {
   "cell_type": "code",
   "execution_count": null,
   "metadata": {},
   "outputs": [],
   "source": [
    "simbad_layer = wwt.layers.add_table_layer(simbad_results)"
   ]
  },
  {
   "cell_type": "code",
   "execution_count": null,
   "metadata": {},
   "outputs": [],
   "source": [
    "simbad_layer.size_scale = 75\n",
    "simbad_layer.color = \"blue\"\n",
    "simbad_layer.opacity = 0.5"
   ]
  },
  {
   "cell_type": "code",
   "execution_count": null,
   "metadata": {},
   "outputs": [],
   "source": [
    "# Select sources within the redshift limits\n",
    "simbad_rlim = simbad_results[simbad_results[\"Z_VALUE\"] >= lower_cand_z]\n",
    "simbad_rlim = simbad_results[simbad_results[\"Z_VALUE\"] <= upper_cand_z]\n",
    "print(len(simbad_rlim))"
   ]
  },
  {
   "cell_type": "code",
   "execution_count": null,
   "metadata": {},
   "outputs": [],
   "source": [
    "simbad_rlim_layer = wwt.layers.add_table_layer(simbad_rlim)"
   ]
  },
  {
   "cell_type": "code",
   "execution_count": null,
   "metadata": {},
   "outputs": [],
   "source": [
    "simbad_rlim_layer.size_scale = 100\n",
    "simbad_rlim_layer.color = \"green\"\n",
    "simbad_rlim_layer.opacity = 1.0\n",
    "simbad_rlim_layer.marker_type = \"circle\"\n",
    "simbad_rlim_layer.marker_scale = \"screen\""
   ]
  },
  {
   "cell_type": "code",
   "execution_count": null,
   "metadata": {},
   "outputs": [],
   "source": [
    "simbad_rlim_within = simbad_rlim[simbad_rlim[\"DISTANCE_RESULT\"] <= (ib_deg / 2).to(u.arcsec)]\n",
    "len(simbad_rlim_within)"
   ]
  },
  {
   "cell_type": "code",
   "execution_count": null,
   "metadata": {},
   "outputs": [],
   "source": [
    "within_layer = wwt.layers.add_table_layer(simbad_rlim_within)"
   ]
  },
  {
   "cell_type": "code",
   "execution_count": null,
   "metadata": {},
   "outputs": [],
   "source": [
    "within_layer.size_scale = 150\n",
    "within_layer.marker_type = \"circle\"\n",
    "within_layer.marker_scale = \"screen\""
   ]
  },
  {
   "cell_type": "code",
   "execution_count": null,
   "metadata": {},
   "outputs": [],
   "source": [
    "# Print out source types we have\n",
    "sim_rlim_by_type = simbad_rlim_within.group_by(\"OTYPE\")\n",
    "for key, group in zip(sim_rlim_by_type.groups.keys, sim_rlim_by_type.groups):\n",
    "    print(key, len(group))\n",
    "    print(\"\\n\")"
   ]
  },
  {
   "cell_type": "code",
   "execution_count": null,
   "metadata": {},
   "outputs": [],
   "source": [
    "# Download an SDSS image for every position\n",
    "positions = [str(ra) + \"h \" + str(dec) + \"deg\" for ra, dec in zip(np.array(simbad_rlim_within[\"RA\"]), np.array(simbad_rlim_within[\"DEC\"]))]\n",
    "full_images = []\n",
    "\n",
    "for idx, position in enumerate(positions):\n",
    "    print(idx)\n",
    "    img_list = SkyView.get_images(position=position, survey=\"SDSSu\", pixels=100)\n",
    "    if len(img_list) == 1:\n",
    "        full_images.append(img_list[0])"
   ]
  },
  {
   "cell_type": "code",
   "execution_count": null,
   "metadata": {},
   "outputs": [],
   "source": [
    "# Actually display the images\n",
    "full_layers = []\n",
    "\n",
    "for image in full_images:\n",
    "    full_layers.append(wwt.layers.add_image_layer(image))"
   ]
  },
  {
   "cell_type": "code",
   "execution_count": null,
   "metadata": {},
   "outputs": [],
   "source": [
    "wwt.center_on_coordinates(ib_centre)"
   ]
  },
  {
   "cell_type": "code",
   "execution_count": null,
   "metadata": {},
   "outputs": [],
   "source": [
    "wwt.grid = True"
   ]
  },
  {
   "cell_type": "code",
   "execution_count": null,
   "metadata": {},
   "outputs": [],
   "source": []
  }
 ],
 "metadata": {
  "kernelspec": {
   "display_name": "Python 3",
   "language": "python",
   "name": "python3"
  },
  "language_info": {
   "codemirror_mode": {
    "name": "ipython",
    "version": 3
   },
   "file_extension": ".py",
   "mimetype": "text/x-python",
   "name": "python",
   "nbconvert_exporter": "python",
   "pygments_lexer": "ipython3",
   "version": "3.8.5"
  }
 },
 "nbformat": 4,
 "nbformat_minor": 4
}
